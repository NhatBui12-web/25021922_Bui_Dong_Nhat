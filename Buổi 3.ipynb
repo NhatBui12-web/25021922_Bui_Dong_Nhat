{
 "cells": [
  {
   "cell_type": "markdown",
   "id": "da646320",
   "metadata": {},
   "source": [
    "bài 1"
   ]
  },
  {
   "cell_type": "code",
   "execution_count": 41,
   "id": "4e020701",
   "metadata": {},
   "outputs": [],
   "source": [
    "def chu(n):\n",
    "    x = ''\n",
    "    for i in range(len(n)-1, -1, -1):\n",
    "        x += n[i]\n",
    "    return x"
   ]
  },
  {
   "cell_type": "code",
   "execution_count": null,
   "id": "1dae7791",
   "metadata": {},
   "outputs": [],
   "source": [
    "assert chu(12)==21"
   ]
  },
  {
   "cell_type": "markdown",
   "id": "311e343f",
   "metadata": {},
   "source": []
  }
 ],
 "metadata": {
  "kernelspec": {
   "display_name": "Python 3",
   "language": "python",
   "name": "python3"
  },
  "language_info": {
   "codemirror_mode": {
    "name": "ipython",
    "version": 3
   },
   "file_extension": ".py",
   "mimetype": "text/x-python",
   "name": "python",
   "nbconvert_exporter": "python",
   "pygments_lexer": "ipython3",
   "version": "3.12.4"
  }
 },
 "nbformat": 4,
 "nbformat_minor": 5
}
